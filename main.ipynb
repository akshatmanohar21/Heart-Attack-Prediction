{
 "cells": [
  {
   "cell_type": "code",
   "execution_count": 16,
   "id": "e719be0d",
   "metadata": {},
   "outputs": [],
   "source": [
    "import pandas as pd\n",
    "import numpy as np\n",
    "import matplotlib.pyplot as plt\n",
    "%matplotlib inline\n",
    "import seaborn as sns\n",
    "import warnings\n",
    "from sklearn.model_selection import train_test_split\n",
    "from sklearn.preprocessing import StandardScaler\n",
    "from sklearn.linear_model import LogisticRegression\n",
    "warnings.filterwarnings('ignore')\n",
    "plt.rcParams['figure.figsize']=(5,5)"
   ]
  },
  {
   "cell_type": "code",
   "execution_count": 17,
   "id": "a7e1732b",
   "metadata": {},
   "outputs": [],
   "source": [
    "df=pd.read_csv('/Users/akshat/Downloads/archive-2/heart.csv')"
   ]
  },
  {
   "cell_type": "code",
   "execution_count": 3,
   "id": "2af9d126",
   "metadata": {},
   "outputs": [
    {
     "data": {
      "text/html": [
       "<div>\n",
       "<style scoped>\n",
       "    .dataframe tbody tr th:only-of-type {\n",
       "        vertical-align: middle;\n",
       "    }\n",
       "\n",
       "    .dataframe tbody tr th {\n",
       "        vertical-align: top;\n",
       "    }\n",
       "\n",
       "    .dataframe thead th {\n",
       "        text-align: right;\n",
       "    }\n",
       "</style>\n",
       "<table border=\"1\" class=\"dataframe\">\n",
       "  <thead>\n",
       "    <tr style=\"text-align: right;\">\n",
       "      <th></th>\n",
       "      <th>age</th>\n",
       "      <th>sex</th>\n",
       "      <th>cp</th>\n",
       "      <th>trtbps</th>\n",
       "      <th>chol</th>\n",
       "      <th>fbs</th>\n",
       "      <th>restecg</th>\n",
       "      <th>thalachh</th>\n",
       "      <th>exng</th>\n",
       "      <th>oldpeak</th>\n",
       "      <th>slp</th>\n",
       "      <th>caa</th>\n",
       "      <th>thall</th>\n",
       "      <th>output</th>\n",
       "    </tr>\n",
       "  </thead>\n",
       "  <tbody>\n",
       "    <tr>\n",
       "      <th>0</th>\n",
       "      <td>63</td>\n",
       "      <td>1</td>\n",
       "      <td>3</td>\n",
       "      <td>145</td>\n",
       "      <td>233</td>\n",
       "      <td>1</td>\n",
       "      <td>0</td>\n",
       "      <td>150</td>\n",
       "      <td>0</td>\n",
       "      <td>2.3</td>\n",
       "      <td>0</td>\n",
       "      <td>0</td>\n",
       "      <td>1</td>\n",
       "      <td>1</td>\n",
       "    </tr>\n",
       "    <tr>\n",
       "      <th>1</th>\n",
       "      <td>37</td>\n",
       "      <td>1</td>\n",
       "      <td>2</td>\n",
       "      <td>130</td>\n",
       "      <td>250</td>\n",
       "      <td>0</td>\n",
       "      <td>1</td>\n",
       "      <td>187</td>\n",
       "      <td>0</td>\n",
       "      <td>3.5</td>\n",
       "      <td>0</td>\n",
       "      <td>0</td>\n",
       "      <td>2</td>\n",
       "      <td>1</td>\n",
       "    </tr>\n",
       "    <tr>\n",
       "      <th>2</th>\n",
       "      <td>41</td>\n",
       "      <td>0</td>\n",
       "      <td>1</td>\n",
       "      <td>130</td>\n",
       "      <td>204</td>\n",
       "      <td>0</td>\n",
       "      <td>0</td>\n",
       "      <td>172</td>\n",
       "      <td>0</td>\n",
       "      <td>1.4</td>\n",
       "      <td>2</td>\n",
       "      <td>0</td>\n",
       "      <td>2</td>\n",
       "      <td>1</td>\n",
       "    </tr>\n",
       "    <tr>\n",
       "      <th>3</th>\n",
       "      <td>56</td>\n",
       "      <td>1</td>\n",
       "      <td>1</td>\n",
       "      <td>120</td>\n",
       "      <td>236</td>\n",
       "      <td>0</td>\n",
       "      <td>1</td>\n",
       "      <td>178</td>\n",
       "      <td>0</td>\n",
       "      <td>0.8</td>\n",
       "      <td>2</td>\n",
       "      <td>0</td>\n",
       "      <td>2</td>\n",
       "      <td>1</td>\n",
       "    </tr>\n",
       "    <tr>\n",
       "      <th>4</th>\n",
       "      <td>57</td>\n",
       "      <td>0</td>\n",
       "      <td>0</td>\n",
       "      <td>120</td>\n",
       "      <td>354</td>\n",
       "      <td>0</td>\n",
       "      <td>1</td>\n",
       "      <td>163</td>\n",
       "      <td>1</td>\n",
       "      <td>0.6</td>\n",
       "      <td>2</td>\n",
       "      <td>0</td>\n",
       "      <td>2</td>\n",
       "      <td>1</td>\n",
       "    </tr>\n",
       "  </tbody>\n",
       "</table>\n",
       "</div>"
      ],
      "text/plain": [
       "   age  sex  cp  trtbps  chol  fbs  restecg  thalachh  exng  oldpeak  slp  \\\n",
       "0   63    1   3     145   233    1        0       150     0      2.3    0   \n",
       "1   37    1   2     130   250    0        1       187     0      3.5    0   \n",
       "2   41    0   1     130   204    0        0       172     0      1.4    2   \n",
       "3   56    1   1     120   236    0        1       178     0      0.8    2   \n",
       "4   57    0   0     120   354    0        1       163     1      0.6    2   \n",
       "\n",
       "   caa  thall  output  \n",
       "0    0      1       1  \n",
       "1    0      2       1  \n",
       "2    0      2       1  \n",
       "3    0      2       1  \n",
       "4    0      2       1  "
      ]
     },
     "execution_count": 3,
     "metadata": {},
     "output_type": "execute_result"
    }
   ],
   "source": [
    "df.head()"
   ]
  },
  {
   "cell_type": "code",
   "execution_count": 4,
   "id": "7251c40f",
   "metadata": {},
   "outputs": [
    {
     "data": {
      "text/html": [
       "<div>\n",
       "<style scoped>\n",
       "    .dataframe tbody tr th:only-of-type {\n",
       "        vertical-align: middle;\n",
       "    }\n",
       "\n",
       "    .dataframe tbody tr th {\n",
       "        vertical-align: top;\n",
       "    }\n",
       "\n",
       "    .dataframe thead th {\n",
       "        text-align: right;\n",
       "    }\n",
       "</style>\n",
       "<table border=\"1\" class=\"dataframe\">\n",
       "  <thead>\n",
       "    <tr style=\"text-align: right;\">\n",
       "      <th></th>\n",
       "      <th>age</th>\n",
       "      <th>sex</th>\n",
       "      <th>cp</th>\n",
       "      <th>trtbps</th>\n",
       "      <th>chol</th>\n",
       "      <th>fbs</th>\n",
       "      <th>restecg</th>\n",
       "      <th>thalachh</th>\n",
       "      <th>exng</th>\n",
       "      <th>oldpeak</th>\n",
       "      <th>slp</th>\n",
       "      <th>caa</th>\n",
       "      <th>thall</th>\n",
       "      <th>output</th>\n",
       "    </tr>\n",
       "  </thead>\n",
       "  <tbody>\n",
       "    <tr>\n",
       "      <th>count</th>\n",
       "      <td>303.000000</td>\n",
       "      <td>303.000000</td>\n",
       "      <td>303.000000</td>\n",
       "      <td>303.000000</td>\n",
       "      <td>303.000000</td>\n",
       "      <td>303.000000</td>\n",
       "      <td>303.000000</td>\n",
       "      <td>303.000000</td>\n",
       "      <td>303.000000</td>\n",
       "      <td>303.000000</td>\n",
       "      <td>303.000000</td>\n",
       "      <td>303.000000</td>\n",
       "      <td>303.000000</td>\n",
       "      <td>303.000000</td>\n",
       "    </tr>\n",
       "    <tr>\n",
       "      <th>mean</th>\n",
       "      <td>54.366337</td>\n",
       "      <td>0.683168</td>\n",
       "      <td>0.966997</td>\n",
       "      <td>131.623762</td>\n",
       "      <td>246.264026</td>\n",
       "      <td>0.148515</td>\n",
       "      <td>0.528053</td>\n",
       "      <td>149.646865</td>\n",
       "      <td>0.326733</td>\n",
       "      <td>1.039604</td>\n",
       "      <td>1.399340</td>\n",
       "      <td>0.729373</td>\n",
       "      <td>2.313531</td>\n",
       "      <td>0.544554</td>\n",
       "    </tr>\n",
       "    <tr>\n",
       "      <th>std</th>\n",
       "      <td>9.082101</td>\n",
       "      <td>0.466011</td>\n",
       "      <td>1.032052</td>\n",
       "      <td>17.538143</td>\n",
       "      <td>51.830751</td>\n",
       "      <td>0.356198</td>\n",
       "      <td>0.525860</td>\n",
       "      <td>22.905161</td>\n",
       "      <td>0.469794</td>\n",
       "      <td>1.161075</td>\n",
       "      <td>0.616226</td>\n",
       "      <td>1.022606</td>\n",
       "      <td>0.612277</td>\n",
       "      <td>0.498835</td>\n",
       "    </tr>\n",
       "    <tr>\n",
       "      <th>min</th>\n",
       "      <td>29.000000</td>\n",
       "      <td>0.000000</td>\n",
       "      <td>0.000000</td>\n",
       "      <td>94.000000</td>\n",
       "      <td>126.000000</td>\n",
       "      <td>0.000000</td>\n",
       "      <td>0.000000</td>\n",
       "      <td>71.000000</td>\n",
       "      <td>0.000000</td>\n",
       "      <td>0.000000</td>\n",
       "      <td>0.000000</td>\n",
       "      <td>0.000000</td>\n",
       "      <td>0.000000</td>\n",
       "      <td>0.000000</td>\n",
       "    </tr>\n",
       "    <tr>\n",
       "      <th>25%</th>\n",
       "      <td>47.500000</td>\n",
       "      <td>0.000000</td>\n",
       "      <td>0.000000</td>\n",
       "      <td>120.000000</td>\n",
       "      <td>211.000000</td>\n",
       "      <td>0.000000</td>\n",
       "      <td>0.000000</td>\n",
       "      <td>133.500000</td>\n",
       "      <td>0.000000</td>\n",
       "      <td>0.000000</td>\n",
       "      <td>1.000000</td>\n",
       "      <td>0.000000</td>\n",
       "      <td>2.000000</td>\n",
       "      <td>0.000000</td>\n",
       "    </tr>\n",
       "    <tr>\n",
       "      <th>50%</th>\n",
       "      <td>55.000000</td>\n",
       "      <td>1.000000</td>\n",
       "      <td>1.000000</td>\n",
       "      <td>130.000000</td>\n",
       "      <td>240.000000</td>\n",
       "      <td>0.000000</td>\n",
       "      <td>1.000000</td>\n",
       "      <td>153.000000</td>\n",
       "      <td>0.000000</td>\n",
       "      <td>0.800000</td>\n",
       "      <td>1.000000</td>\n",
       "      <td>0.000000</td>\n",
       "      <td>2.000000</td>\n",
       "      <td>1.000000</td>\n",
       "    </tr>\n",
       "    <tr>\n",
       "      <th>75%</th>\n",
       "      <td>61.000000</td>\n",
       "      <td>1.000000</td>\n",
       "      <td>2.000000</td>\n",
       "      <td>140.000000</td>\n",
       "      <td>274.500000</td>\n",
       "      <td>0.000000</td>\n",
       "      <td>1.000000</td>\n",
       "      <td>166.000000</td>\n",
       "      <td>1.000000</td>\n",
       "      <td>1.600000</td>\n",
       "      <td>2.000000</td>\n",
       "      <td>1.000000</td>\n",
       "      <td>3.000000</td>\n",
       "      <td>1.000000</td>\n",
       "    </tr>\n",
       "    <tr>\n",
       "      <th>max</th>\n",
       "      <td>77.000000</td>\n",
       "      <td>1.000000</td>\n",
       "      <td>3.000000</td>\n",
       "      <td>200.000000</td>\n",
       "      <td>564.000000</td>\n",
       "      <td>1.000000</td>\n",
       "      <td>2.000000</td>\n",
       "      <td>202.000000</td>\n",
       "      <td>1.000000</td>\n",
       "      <td>6.200000</td>\n",
       "      <td>2.000000</td>\n",
       "      <td>4.000000</td>\n",
       "      <td>3.000000</td>\n",
       "      <td>1.000000</td>\n",
       "    </tr>\n",
       "  </tbody>\n",
       "</table>\n",
       "</div>"
      ],
      "text/plain": [
       "              age         sex          cp      trtbps        chol         fbs  \\\n",
       "count  303.000000  303.000000  303.000000  303.000000  303.000000  303.000000   \n",
       "mean    54.366337    0.683168    0.966997  131.623762  246.264026    0.148515   \n",
       "std      9.082101    0.466011    1.032052   17.538143   51.830751    0.356198   \n",
       "min     29.000000    0.000000    0.000000   94.000000  126.000000    0.000000   \n",
       "25%     47.500000    0.000000    0.000000  120.000000  211.000000    0.000000   \n",
       "50%     55.000000    1.000000    1.000000  130.000000  240.000000    0.000000   \n",
       "75%     61.000000    1.000000    2.000000  140.000000  274.500000    0.000000   \n",
       "max     77.000000    1.000000    3.000000  200.000000  564.000000    1.000000   \n",
       "\n",
       "          restecg    thalachh        exng     oldpeak         slp         caa  \\\n",
       "count  303.000000  303.000000  303.000000  303.000000  303.000000  303.000000   \n",
       "mean     0.528053  149.646865    0.326733    1.039604    1.399340    0.729373   \n",
       "std      0.525860   22.905161    0.469794    1.161075    0.616226    1.022606   \n",
       "min      0.000000   71.000000    0.000000    0.000000    0.000000    0.000000   \n",
       "25%      0.000000  133.500000    0.000000    0.000000    1.000000    0.000000   \n",
       "50%      1.000000  153.000000    0.000000    0.800000    1.000000    0.000000   \n",
       "75%      1.000000  166.000000    1.000000    1.600000    2.000000    1.000000   \n",
       "max      2.000000  202.000000    1.000000    6.200000    2.000000    4.000000   \n",
       "\n",
       "            thall      output  \n",
       "count  303.000000  303.000000  \n",
       "mean     2.313531    0.544554  \n",
       "std      0.612277    0.498835  \n",
       "min      0.000000    0.000000  \n",
       "25%      2.000000    0.000000  \n",
       "50%      2.000000    1.000000  \n",
       "75%      3.000000    1.000000  \n",
       "max      3.000000    1.000000  "
      ]
     },
     "execution_count": 4,
     "metadata": {},
     "output_type": "execute_result"
    }
   ],
   "source": [
    "df.describe()"
   ]
  },
  {
   "cell_type": "code",
   "execution_count": 5,
   "id": "f55041a0",
   "metadata": {},
   "outputs": [
    {
     "name": "stdout",
     "output_type": "stream",
     "text": [
      "Index(['age', 'sex', 'cp', 'trtbps', 'chol', 'fbs', 'restecg', 'thalachh',\n",
      "       'exng', 'oldpeak', 'slp', 'caa', 'thall', 'output'],\n",
      "      dtype='object')\n"
     ]
    }
   ],
   "source": [
    "print(df.columns)"
   ]
  },
  {
   "cell_type": "code",
   "execution_count": 6,
   "id": "58bd2ac2",
   "metadata": {},
   "outputs": [
    {
     "data": {
      "image/png": "[encoded data removed]",
      "text/plain": [
       "<Figure size 1000x500 with 1 Axes>"
      ]
     },
     "metadata": {},
     "output_type": "display_data"
    }
   ],
   "source": [
    "plt.figure(figsize=(10,5))\n",
    "sns.countplot(data=df, x='chol', palette='cool')\n",
    "plt.show()"
   ]
  },
  {
   "cell_type": "code",
   "execution_count": 7,
   "id": "11156b7b",
   "metadata": {},
   "outputs": [
    {
     "name": "stdout",
     "output_type": "stream",
     "text": [
      "<class 'pandas.core.frame.DataFrame'>\n",
      "RangeIndex: 303 entries, 0 to 302\n",
      "Data columns (total 14 columns):\n",
      " #   Column    Non-Null Count  Dtype  \n",
      "---  ------    --------------  -----  \n",
      " 0   age       303 non-null    int64  \n",
      " 1   sex       303 non-null    int64  \n",
      " 2   cp        303 non-null    int64  \n",
      " 3   trtbps    303 non-null    int64  \n",
      " 4   chol      303 non-null    int64  \n",
      " 5   fbs       303 non-null    int64  \n",
      " 6   restecg   303 non-null    int64  \n",
      " 7   thalachh  303 non-null    int64  \n",
      " 8   exng      303 non-null    int64  \n",
      " 9   oldpeak   303 non-null    float64\n",
      " 10  slp       303 non-null    int64  \n",
      " 11  caa       303 non-null    int64  \n",
      " 12  thall     303 non-null    int64  \n",
      " 13  output    303 non-null    int64  \n",
      "dtypes: float64(1), int64(13)\n",
      "memory usage: 33.3 KB\n"
     ]
    }
   ],
   "source": [
    "df.info()"
   ]
  },
  {
   "cell_type": "code",
   "execution_count": 8,
   "id": "083b057f",
   "metadata": {},
   "outputs": [
    {
     "data": {
      "text/plain": [
       "age         0\n",
       "sex         0\n",
       "cp          0\n",
       "trtbps      0\n",
       "chol        0\n",
       "fbs         0\n",
       "restecg     0\n",
       "thalachh    0\n",
       "exng        0\n",
       "oldpeak     0\n",
       "slp         0\n",
       "caa         0\n",
       "thall       0\n",
       "output      0\n",
       "dtype: int64"
      ]
     },
     "execution_count": 8,
     "metadata": {},
     "output_type": "execute_result"
    }
   ],
   "source": [
    "df.isnull().sum()"
   ]
  },
  {
   "cell_type": "code",
   "execution_count": 13,
   "id": "fdb7d285",
   "metadata": {},
   "outputs": [
    {
     "ename": "NameError",
     "evalue": "name 'figsize' is not defined",
     "output_type": "error",
     "traceback": [
      "\u001b[0;31m---------------------------------------------------------------------------\u001b[0m",
      "\u001b[0;31mNameError\u001b[0m                                 Traceback (most recent call last)",
      "\u001b[0;32m/var/folders/_w/fcz9_1y9271gvdf90bds56dw0000gn/T/ipykernel_62097/1873744011.py\u001b[0m in \u001b[0;36m<module>\u001b[0;34m\u001b[0m\n\u001b[0;32m----> 1\u001b[0;31m \u001b[0mdf\u001b[0m\u001b[0;34m.\u001b[0m\u001b[0mhist\u001b[0m\u001b[0;34m(\u001b[0m\u001b[0mfigsize\u001b[0m\u001b[0;34m(\u001b[0m\u001b[0;36m20\u001b[0m\u001b[0;34m,\u001b[0m\u001b[0;36m20\u001b[0m\u001b[0;34m)\u001b[0m\u001b[0;34m)\u001b[0m\u001b[0;34m\u001b[0m\u001b[0;34m\u001b[0m\u001b[0m\n\u001b[0m\u001b[1;32m      2\u001b[0m \u001b[0msns\u001b[0m\u001b[0;34m.\u001b[0m\u001b[0mheatmap\u001b[0m\u001b[0;34m(\u001b[0m\u001b[0mdf\u001b[0m\u001b[0;34m.\u001b[0m\u001b[0mcorr\u001b[0m\u001b[0;34m(\u001b[0m\u001b[0;34m)\u001b[0m\u001b[0;34m,\u001b[0m \u001b[0mannot\u001b[0m\u001b[0;34m=\u001b[0m \u001b[0;32mTrue\u001b[0m\u001b[0;34m,\u001b[0m \u001b[0mcmap\u001b[0m\u001b[0;34m=\u001b[0m\u001b[0;34m'Blues'\u001b[0m\u001b[0;34m)\u001b[0m\u001b[0;34m\u001b[0m\u001b[0;34m\u001b[0m\u001b[0m\n\u001b[1;32m      3\u001b[0m \u001b[0mplt\u001b[0m\u001b[0;34m.\u001b[0m\u001b[0mshow\u001b[0m\u001b[0;34m(\u001b[0m\u001b[0;34m)\u001b[0m\u001b[0;34m\u001b[0m\u001b[0;34m\u001b[0m\u001b[0m\n",
      "\u001b[0;31mNameError\u001b[0m: name 'figsize' is not defined"
     ]
    }
   ],
   "source": [
    "df.hist(figsize(20,20))\n",
    "sns.heatmap(df.corr(), annot= True, cmap='Blues')\n",
    "plt.show()"
   ]
  },
  {
   "cell_type": "code",
   "execution_count": 14,
   "id": "b9546548",
   "metadata": {},
   "outputs": [
    {
     "data": {
      "text/plain": [
       "<AxesSubplot:>"
      ]
     },
     "execution_count": 14,
     "metadata": {},
     "output_type": "execute_result"
    },
    {
     "data": {
      "image/png": "[encoded data removed]",
      "text/plain": [
       "<Figure size 500x500 with 1 Axes>"
      ]
     },
     "metadata": {},
     "output_type": "display_data"
    }
   ],
   "source": [
    "df.boxplot(['chol'])"
   ]
  },
  {
   "cell_type": "code",
   "execution_count": 15,
   "id": "5daa9b25",
   "metadata": {},
   "outputs": [
    {
     "data": {
      "text/plain": [
       "<AxesSubplot:>"
      ]
     },
     "execution_count": 15,
     "metadata": {},
     "output_type": "execute_result"
    },
    {
     "data": {
      "image/png": "[encoded data removed]",
      "text/plain": [
       "<Figure size 500x500 with 1 Axes>"
      ]
     },
     "metadata": {},
     "output_type": "display_data"
    }
   ],
   "source": [
    "df.boxplot(['cp'])"
   ]
  },
  {
   "cell_type": "code",
   "execution_count": 18,
   "id": "4d62983f",
   "metadata": {},
   "outputs": [
    {
     "data": {
      "text/html": [
       "<div>\n",
       "<style scoped>\n",
       "    .dataframe tbody tr th:only-of-type {\n",
       "        vertical-align: middle;\n",
       "    }\n",
       "\n",
       "    .dataframe tbody tr th {\n",
       "        vertical-align: top;\n",
       "    }\n",
       "\n",
       "    .dataframe thead th {\n",
       "        text-align: right;\n",
       "    }\n",
       "</style>\n",
       "<table border=\"1\" class=\"dataframe\">\n",
       "  <thead>\n",
       "    <tr style=\"text-align: right;\">\n",
       "      <th></th>\n",
       "      <th>age</th>\n",
       "      <th>sex</th>\n",
       "      <th>cp</th>\n",
       "      <th>trtbps</th>\n",
       "      <th>chol</th>\n",
       "      <th>fbs</th>\n",
       "      <th>restecg</th>\n",
       "      <th>thalachh</th>\n",
       "      <th>exng</th>\n",
       "      <th>oldpeak</th>\n",
       "      <th>slp</th>\n",
       "      <th>caa</th>\n",
       "      <th>thall</th>\n",
       "    </tr>\n",
       "  </thead>\n",
       "  <tbody>\n",
       "    <tr>\n",
       "      <th>0</th>\n",
       "      <td>63</td>\n",
       "      <td>1</td>\n",
       "      <td>3</td>\n",
       "      <td>145</td>\n",
       "      <td>233</td>\n",
       "      <td>1</td>\n",
       "      <td>0</td>\n",
       "      <td>150</td>\n",
       "      <td>0</td>\n",
       "      <td>2.3</td>\n",
       "      <td>0</td>\n",
       "      <td>0</td>\n",
       "      <td>1</td>\n",
       "    </tr>\n",
       "    <tr>\n",
       "      <th>1</th>\n",
       "      <td>37</td>\n",
       "      <td>1</td>\n",
       "      <td>2</td>\n",
       "      <td>130</td>\n",
       "      <td>250</td>\n",
       "      <td>0</td>\n",
       "      <td>1</td>\n",
       "      <td>187</td>\n",
       "      <td>0</td>\n",
       "      <td>3.5</td>\n",
       "      <td>0</td>\n",
       "      <td>0</td>\n",
       "      <td>2</td>\n",
       "    </tr>\n",
       "    <tr>\n",
       "      <th>2</th>\n",
       "      <td>41</td>\n",
       "      <td>0</td>\n",
       "      <td>1</td>\n",
       "      <td>130</td>\n",
       "      <td>204</td>\n",
       "      <td>0</td>\n",
       "      <td>0</td>\n",
       "      <td>172</td>\n",
       "      <td>0</td>\n",
       "      <td>1.4</td>\n",
       "      <td>2</td>\n",
       "      <td>0</td>\n",
       "      <td>2</td>\n",
       "    </tr>\n",
       "    <tr>\n",
       "      <th>3</th>\n",
       "      <td>56</td>\n",
       "      <td>1</td>\n",
       "      <td>1</td>\n",
       "      <td>120</td>\n",
       "      <td>236</td>\n",
       "      <td>0</td>\n",
       "      <td>1</td>\n",
       "      <td>178</td>\n",
       "      <td>0</td>\n",
       "      <td>0.8</td>\n",
       "      <td>2</td>\n",
       "      <td>0</td>\n",
       "      <td>2</td>\n",
       "    </tr>\n",
       "    <tr>\n",
       "      <th>4</th>\n",
       "      <td>57</td>\n",
       "      <td>0</td>\n",
       "      <td>0</td>\n",
       "      <td>120</td>\n",
       "      <td>354</td>\n",
       "      <td>0</td>\n",
       "      <td>1</td>\n",
       "      <td>163</td>\n",
       "      <td>1</td>\n",
       "      <td>0.6</td>\n",
       "      <td>2</td>\n",
       "      <td>0</td>\n",
       "      <td>2</td>\n",
       "    </tr>\n",
       "    <tr>\n",
       "      <th>...</th>\n",
       "      <td>...</td>\n",
       "      <td>...</td>\n",
       "      <td>...</td>\n",
       "      <td>...</td>\n",
       "      <td>...</td>\n",
       "      <td>...</td>\n",
       "      <td>...</td>\n",
       "      <td>...</td>\n",
       "      <td>...</td>\n",
       "      <td>...</td>\n",
       "      <td>...</td>\n",
       "      <td>...</td>\n",
       "      <td>...</td>\n",
       "    </tr>\n",
       "    <tr>\n",
       "      <th>298</th>\n",
       "      <td>57</td>\n",
       "      <td>0</td>\n",
       "      <td>0</td>\n",
       "      <td>140</td>\n",
       "      <td>241</td>\n",
       "      <td>0</td>\n",
       "      <td>1</td>\n",
       "      <td>123</td>\n",
       "      <td>1</td>\n",
       "      <td>0.2</td>\n",
       "      <td>1</td>\n",
       "      <td>0</td>\n",
       "      <td>3</td>\n",
       "    </tr>\n",
       "    <tr>\n",
       "      <th>299</th>\n",
       "      <td>45</td>\n",
       "      <td>1</td>\n",
       "      <td>3</td>\n",
       "      <td>110</td>\n",
       "      <td>264</td>\n",
       "      <td>0</td>\n",
       "      <td>1</td>\n",
       "      <td>132</td>\n",
       "      <td>0</td>\n",
       "      <td>1.2</td>\n",
       "      <td>1</td>\n",
       "      <td>0</td>\n",
       "      <td>3</td>\n",
       "    </tr>\n",
       "    <tr>\n",
       "      <th>300</th>\n",
       "      <td>68</td>\n",
       "      <td>1</td>\n",
       "      <td>0</td>\n",
       "      <td>144</td>\n",
       "      <td>193</td>\n",
       "      <td>1</td>\n",
       "      <td>1</td>\n",
       "      <td>141</td>\n",
       "      <td>0</td>\n",
       "      <td>3.4</td>\n",
       "      <td>1</td>\n",
       "      <td>2</td>\n",
       "      <td>3</td>\n",
       "    </tr>\n",
       "    <tr>\n",
       "      <th>301</th>\n",
       "      <td>57</td>\n",
       "      <td>1</td>\n",
       "      <td>0</td>\n",
       "      <td>130</td>\n",
       "      <td>131</td>\n",
       "      <td>0</td>\n",
       "      <td>1</td>\n",
       "      <td>115</td>\n",
       "      <td>1</td>\n",
       "      <td>1.2</td>\n",
       "      <td>1</td>\n",
       "      <td>1</td>\n",
       "      <td>3</td>\n",
       "    </tr>\n",
       "    <tr>\n",
       "      <th>302</th>\n",
       "      <td>57</td>\n",
       "      <td>0</td>\n",
       "      <td>1</td>\n",
       "      <td>130</td>\n",
       "      <td>236</td>\n",
       "      <td>0</td>\n",
       "      <td>0</td>\n",
       "      <td>174</td>\n",
       "      <td>0</td>\n",
       "      <td>0.0</td>\n",
       "      <td>1</td>\n",
       "      <td>1</td>\n",
       "      <td>2</td>\n",
       "    </tr>\n",
       "  </tbody>\n",
       "</table>\n",
       "<p>303 rows × 13 columns</p>\n",
       "</div>"
      ],
      "text/plain": [
       "     age  sex  cp  trtbps  chol  fbs  restecg  thalachh  exng  oldpeak  slp  \\\n",
       "0     63    1   3     145   233    1        0       150     0      2.3    0   \n",
       "1     37    1   2     130   250    0        1       187     0      3.5    0   \n",
       "2     41    0   1     130   204    0        0       172     0      1.4    2   \n",
       "3     56    1   1     120   236    0        1       178     0      0.8    2   \n",
       "4     57    0   0     120   354    0        1       163     1      0.6    2   \n",
       "..   ...  ...  ..     ...   ...  ...      ...       ...   ...      ...  ...   \n",
       "298   57    0   0     140   241    0        1       123     1      0.2    1   \n",
       "299   45    1   3     110   264    0        1       132     0      1.2    1   \n",
       "300   68    1   0     144   193    1        1       141     0      3.4    1   \n",
       "301   57    1   0     130   131    0        1       115     1      1.2    1   \n",
       "302   57    0   1     130   236    0        0       174     0      0.0    1   \n",
       "\n",
       "     caa  thall  \n",
       "0      0      1  \n",
       "1      0      2  \n",
       "2      0      2  \n",
       "3      0      2  \n",
       "4      0      2  \n",
       "..   ...    ...  \n",
       "298    0      3  \n",
       "299    0      3  \n",
       "300    2      3  \n",
       "301    1      3  \n",
       "302    1      2  \n",
       "\n",
       "[303 rows x 13 columns]"
      ]
     },
     "execution_count": 18,
     "metadata": {},
     "output_type": "execute_result"
    }
   ],
   "source": [
    "df.drop(['output'], axis=1)"
   ]
  },
  {
   "cell_type": "code",
   "execution_count": 21,
   "id": "ce7d1356",
   "metadata": {},
   "outputs": [],
   "source": [
    "X= df.drop('output', axis=1)\n",
    "y=df['output']"
   ]
  },
  {
   "cell_type": "code",
   "execution_count": 22,
   "id": "011cd4d9",
   "metadata": {},
   "outputs": [],
   "source": [
    "scaler = StandardScaler()\n",
    "X = scaler.fit_transform(X)\n",
    "X = pd.DataFrame(X, columns=df.columns[:-1])"
   ]
  },
  {
   "cell_type": "code",
   "execution_count": 23,
   "id": "44644f96",
   "metadata": {},
   "outputs": [
    {
     "name": "stdout",
     "output_type": "stream",
     "text": [
      "[0.06914209 0.05652929 0.11821652 0.0597117  0.06053175 0.01970758\n",
      " 0.03648236 0.08357499 0.10391485 0.09005422 0.06760571 0.13386209\n",
      " 0.10066685]\n"
     ]
    },
    {
     "data": {
      "image/png": "[encoded data removed]",
      "text/plain": [
       "<Figure size 500x500 with 1 Axes>"
      ]
     },
     "metadata": {},
     "output_type": "display_data"
    }
   ],
   "source": [
    "import pandas as pd\n",
    "import numpy as np\n",
    "from sklearn.ensemble import ExtraTreesClassifier\n",
    "import matplotlib.pyplot as plt\n",
    "model = ExtraTreesClassifier()\n",
    "model.fit(X,y)\n",
    "print(model.feature_importances_) #use inbuilt class feature_importances of tree based classifiers\n",
    "#plot graph of feature importances for better visualization\n",
    "feat_importances = pd.Series(model.feature_importances_, index=X.columns)\n",
    "feat_importances.nlargest(10).plot(kind='barh')\n",
    "plt.show()"
   ]
  },
  {
   "cell_type": "code",
   "execution_count": 24,
   "id": "8bfe661a",
   "metadata": {},
   "outputs": [
    {
     "ename": "TypeError",
     "evalue": "'Series' object is not callable",
     "output_type": "error",
     "traceback": [
      "\u001b[0;31m---------------------------------------------------------------------------\u001b[0m",
      "\u001b[0;31mTypeError\u001b[0m                                 Traceback (most recent call last)",
      "\u001b[0;32m/var/folders/_w/fcz9_1y9271gvdf90bds56dw0000gn/T/ipykernel_62097/2366142005.py\u001b[0m in \u001b[0;36m<module>\u001b[0;34m\u001b[0m\n\u001b[1;32m      1\u001b[0m \u001b[0mt7\u001b[0m\u001b[0;34m=\u001b[0m\u001b[0mfeat_importances\u001b[0m\u001b[0;34m.\u001b[0m\u001b[0mnlargest\u001b[0m\u001b[0;34m(\u001b[0m\u001b[0;36m7\u001b[0m\u001b[0;34m)\u001b[0m\u001b[0;34m.\u001b[0m\u001b[0mindex\u001b[0m\u001b[0;34m\u001b[0m\u001b[0;34m\u001b[0m\u001b[0m\n\u001b[0;32m----> 2\u001b[0;31m \u001b[0mprint\u001b[0m\u001b[0;34m(\u001b[0m\u001b[0mfeat_importances\u001b[0m\u001b[0;34m(\u001b[0m\u001b[0mt7\u001b[0m\u001b[0;34m)\u001b[0m\u001b[0;34m)\u001b[0m\u001b[0;34m\u001b[0m\u001b[0;34m\u001b[0m\u001b[0m\n\u001b[0m",
      "\u001b[0;31mTypeError\u001b[0m: 'Series' object is not callable"
     ]
    }
   ],
   "source": [
    "t7=feat_importances.nlargest(7).index\n",
    "print(feat_importances(t7))"
   ]
  },
  {
   "cell_type": "code",
   "execution_count": 25,
   "id": "3e765ac0",
   "metadata": {},
   "outputs": [
    {
     "data": {
      "text/html": [
       "<div>\n",
       "<style scoped>\n",
       "    .dataframe tbody tr th:only-of-type {\n",
       "        vertical-align: middle;\n",
       "    }\n",
       "\n",
       "    .dataframe tbody tr th {\n",
       "        vertical-align: top;\n",
       "    }\n",
       "\n",
       "    .dataframe thead th {\n",
       "        text-align: right;\n",
       "    }\n",
       "</style>\n",
       "<table border=\"1\" class=\"dataframe\">\n",
       "  <thead>\n",
       "    <tr style=\"text-align: right;\">\n",
       "      <th></th>\n",
       "      <th>age</th>\n",
       "      <th>sex</th>\n",
       "      <th>cp</th>\n",
       "      <th>fbs</th>\n",
       "      <th>restecg</th>\n",
       "      <th>thalachh</th>\n",
       "      <th>exng</th>\n",
       "      <th>oldpeak</th>\n",
       "      <th>caa</th>\n",
       "      <th>thall</th>\n",
       "    </tr>\n",
       "  </thead>\n",
       "  <tbody>\n",
       "    <tr>\n",
       "      <th>0</th>\n",
       "      <td>0.952197</td>\n",
       "      <td>0.681005</td>\n",
       "      <td>1.973123</td>\n",
       "      <td>2.394438</td>\n",
       "      <td>-1.005832</td>\n",
       "      <td>0.015443</td>\n",
       "      <td>-0.696631</td>\n",
       "      <td>1.087338</td>\n",
       "      <td>-0.714429</td>\n",
       "      <td>-2.148873</td>\n",
       "    </tr>\n",
       "    <tr>\n",
       "      <th>1</th>\n",
       "      <td>-1.915313</td>\n",
       "      <td>0.681005</td>\n",
       "      <td>1.002577</td>\n",
       "      <td>-0.417635</td>\n",
       "      <td>0.898962</td>\n",
       "      <td>1.633471</td>\n",
       "      <td>-0.696631</td>\n",
       "      <td>2.122573</td>\n",
       "      <td>-0.714429</td>\n",
       "      <td>-0.512922</td>\n",
       "    </tr>\n",
       "    <tr>\n",
       "      <th>2</th>\n",
       "      <td>-1.474158</td>\n",
       "      <td>-1.468418</td>\n",
       "      <td>0.032031</td>\n",
       "      <td>-0.417635</td>\n",
       "      <td>-1.005832</td>\n",
       "      <td>0.977514</td>\n",
       "      <td>-0.696631</td>\n",
       "      <td>0.310912</td>\n",
       "      <td>-0.714429</td>\n",
       "      <td>-0.512922</td>\n",
       "    </tr>\n",
       "    <tr>\n",
       "      <th>3</th>\n",
       "      <td>0.180175</td>\n",
       "      <td>0.681005</td>\n",
       "      <td>0.032031</td>\n",
       "      <td>-0.417635</td>\n",
       "      <td>0.898962</td>\n",
       "      <td>1.239897</td>\n",
       "      <td>-0.696631</td>\n",
       "      <td>-0.206705</td>\n",
       "      <td>-0.714429</td>\n",
       "      <td>-0.512922</td>\n",
       "    </tr>\n",
       "    <tr>\n",
       "      <th>4</th>\n",
       "      <td>0.290464</td>\n",
       "      <td>-1.468418</td>\n",
       "      <td>-0.938515</td>\n",
       "      <td>-0.417635</td>\n",
       "      <td>0.898962</td>\n",
       "      <td>0.583939</td>\n",
       "      <td>1.435481</td>\n",
       "      <td>-0.379244</td>\n",
       "      <td>-0.714429</td>\n",
       "      <td>-0.512922</td>\n",
       "    </tr>\n",
       "  </tbody>\n",
       "</table>\n",
       "</div>"
      ],
      "text/plain": [
       "        age       sex        cp       fbs   restecg  thalachh      exng  \\\n",
       "0  0.952197  0.681005  1.973123  2.394438 -1.005832  0.015443 -0.696631   \n",
       "1 -1.915313  0.681005  1.002577 -0.417635  0.898962  1.633471 -0.696631   \n",
       "2 -1.474158 -1.468418  0.032031 -0.417635 -1.005832  0.977514 -0.696631   \n",
       "3  0.180175  0.681005  0.032031 -0.417635  0.898962  1.239897 -0.696631   \n",
       "4  0.290464 -1.468418 -0.938515 -0.417635  0.898962  0.583939  1.435481   \n",
       "\n",
       "    oldpeak       caa     thall  \n",
       "0  1.087338 -0.714429 -2.148873  \n",
       "1  2.122573 -0.714429 -0.512922  \n",
       "2  0.310912 -0.714429 -0.512922  \n",
       "3 -0.206705 -0.714429 -0.512922  \n",
       "4 -0.379244 -0.714429 -0.512922  "
      ]
     },
     "execution_count": 25,
     "metadata": {},
     "output_type": "execute_result"
    }
   ],
   "source": [
    "X = X.drop(['slp','chol', 'trtbps'] , axis=1)\n",
    "X.head()"
   ]
  },
  {
   "cell_type": "code",
   "execution_count": 26,
   "id": "d9aa5803",
   "metadata": {},
   "outputs": [
    {
     "name": "stdout",
     "output_type": "stream",
     "text": [
      "Number transactions X_train dataset: (212, 10)\n",
      "Number transactions Y_train dataset: (212,)\n",
      "Number transactions X_test dataset: (91, 10)\n",
      "Number transactions X_test dataset: (91,)\n"
     ]
    }
   ],
   "source": [
    "from sklearn.model_selection import train_test_split\n",
    "\n",
    "X_train, X_test, y_train, y_test=train_test_split(X,y, test_size=0.3, random_state=0)\n",
    "\n",
    "print(\"Number transactions X_train dataset:\", X_train.shape)\n",
    "print(\"Number transactions Y_train dataset:\", y_train.shape)\n",
    "print(\"Number transactions X_test dataset:\", X_test.shape)\n",
    "print(\"Number transactions X_test dataset:\", y_test.shape)"
   ]
  },
  {
   "cell_type": "code",
   "execution_count": 27,
   "id": "20efe21e",
   "metadata": {},
   "outputs": [],
   "source": [
    "acc=[]\n",
    "model=[]"
   ]
  },
  {
   "cell_type": "code",
   "execution_count": 28,
   "id": "f5577afb",
   "metadata": {},
   "outputs": [
    {
     "name": "stdout",
     "output_type": "stream",
     "text": [
      "Before OverSampling, counts of label '1': 118\n",
      "Before OverSampling, counts of label '0': 94 \n",
      "\n",
      "After OverSampling, the shape of train_X: (236, 10)\n",
      "After OverSampling, the shape of train_Y: (236,) \n",
      "\n",
      "After OverSampling, counts of label '1': 118\n",
      "After OverSampling, counts of label '0': 118\n"
     ]
    }
   ],
   "source": [
    "#handling imbalanced data\n",
    "\n",
    "from imblearn.over_sampling import SMOTE\n",
    "\n",
    "\n",
    "print(\"Before OverSampling, counts of label '1': {}\".format(sum(y_train==1)))\n",
    "print(\"Before OverSampling, counts of label '0': {} \\n\".format(sum(y_train==0)))\n",
    "\n",
    "sm=SMOTE(random_state=2)\n",
    "X_train_res, y_train_res=sm.fit_resample(X_train, y_train.ravel())\n",
    "\n",
    "print('After OverSampling, the shape of train_X: {}'.format(X_train_res.shape))\n",
    "print('After OverSampling, the shape of train_Y: {} \\n'.format(y_train_res.shape))\n",
    "\n",
    "print('After OverSampling, counts of label \\'1\\': {}'.format(sum(y_train_res==1)))\n",
    "print('After OverSampling, counts of label \\'0\\': {}'.format(sum(y_train_res==0)))"
   ]
  },
  {
   "cell_type": "code",
   "execution_count": 29,
   "id": "51a1a784",
   "metadata": {
    "scrolled": true
   },
   "outputs": [
    {
     "data": {
      "text/plain": [
       "LogisticRegression(C=0.01, solver='liblinear')"
      ]
     },
     "execution_count": 29,
     "metadata": {},
     "output_type": "execute_result"
    }
   ],
   "source": [
    "from sklearn.metrics import confusion_matrix\n",
    "from sklearn.metrics import jaccard_score\n",
    "from sklearn.metrics import classification_report, confusion_matrix\n",
    "from sklearn.metrics import log_loss\n",
    "\n",
    "LR = LogisticRegression(C=0.01, solver='liblinear').fit(X_train,y_train)\n",
    "LR"
   ]
  },
  {
   "cell_type": "code",
   "execution_count": 30,
   "id": "4ffe3fd7",
   "metadata": {},
   "outputs": [
    {
     "data": {
      "text/plain": [
       "array([1, 1, 0, 1, 0, 0, 0, 1, 0, 0, 1, 0, 1, 0, 1, 1, 1, 0, 1, 0, 0, 0,\n",
       "       0, 0, 0, 1, 1, 1, 1, 1, 1, 1, 1, 1, 1, 1, 0, 1, 1, 1, 0, 1, 1, 1,\n",
       "       0, 1, 1, 0, 0, 1, 1, 1, 1, 1, 1, 1, 1, 1, 1, 1, 1, 1, 0, 0, 1, 0,\n",
       "       0, 0, 1, 1, 1, 0, 1, 0, 1, 1, 0, 1, 1, 1, 1, 1, 0, 0, 1, 0, 1, 0,\n",
       "       1, 1, 0, 0, 1, 1, 0, 1, 1, 1, 1, 0, 1, 0, 1, 0, 1, 1, 0, 1, 1, 1,\n",
       "       0, 0, 1, 0, 0, 1, 1, 1, 1, 0, 1, 0, 0, 0, 1, 1, 1, 0, 1, 0, 1, 0,\n",
       "       0, 1, 1, 1, 0, 1, 0, 1, 1, 1, 0, 1, 0, 0, 1, 0, 1, 1, 1, 1, 1, 0,\n",
       "       0, 1, 1, 0, 0, 0, 0, 1, 1, 0, 1, 0, 1, 1, 0, 1, 1, 0, 1, 1, 0, 0,\n",
       "       0, 1, 1, 1, 0, 0, 1, 1, 1, 1, 0, 0, 1, 0, 1, 1, 0, 0, 0, 0, 1, 0,\n",
       "       1, 1, 1, 0, 0, 1, 0, 1, 0, 0, 0, 1, 1, 1])"
      ]
     },
     "execution_count": 30,
     "metadata": {},
     "output_type": "execute_result"
    }
   ],
   "source": [
    "ytrain = LR.predict(X_train)\n",
    "ytrain"
   ]
  },
  {
   "cell_type": "code",
   "execution_count": 34,
   "id": "cf4dfa9b",
   "metadata": {},
   "outputs": [
    {
     "data": {
      "text/plain": [
       "array([0, 1, 1, 0, 0, 1, 0, 0, 0, 0, 1, 1, 0, 1, 1, 1, 0, 1, 0, 1, 1, 0,\n",
       "       0, 0, 1, 1, 0, 0, 1, 1, 1, 0, 1, 1, 1, 1, 0, 1, 0, 0, 1, 1, 1, 0,\n",
       "       0, 1, 1, 1, 0, 1, 1, 0, 1, 1, 1, 0, 1, 1, 1, 1, 1, 1, 1, 1, 1, 1,\n",
       "       1, 0, 1, 1, 1, 1, 1, 0, 0, 1, 0, 1, 1, 0, 0, 0, 0, 1, 0, 1, 0, 1,\n",
       "       1, 0, 0])"
      ]
     },
     "execution_count": 34,
     "metadata": {},
     "output_type": "execute_result"
    }
   ],
   "source": [
    "yhat = LR.predict(X_test)\n",
    "yhat"
   ]
  },
  {
   "cell_type": "code",
   "execution_count": 31,
   "id": "ba3e243e",
   "metadata": {},
   "outputs": [
    {
     "data": {
      "text/plain": [
       "array([[0.4364416 , 0.5635584 ],\n",
       "       [0.42113992, 0.57886008],\n",
       "       [0.75356746, 0.24643254],\n",
       "       [0.24792714, 0.75207286],\n",
       "       [0.73265737, 0.26734263],\n",
       "       [0.64196547, 0.35803453],\n",
       "       [0.77378322, 0.22621678],\n",
       "       [0.25170408, 0.74829592],\n",
       "       [0.67915127, 0.32084873],\n",
       "       [0.69245221, 0.30754779],\n",
       "       [0.21090459, 0.78909541],\n",
       "       [0.77758894, 0.22241106],\n",
       "       [0.42130653, 0.57869347],\n",
       "       [0.60653075, 0.39346925],\n",
       "       [0.32495245, 0.67504755],\n",
       "       [0.29174294, 0.70825706],\n",
       "       [0.33791566, 0.66208434],\n",
       "       [0.51655477, 0.48344523],\n",
       "       [0.34217713, 0.65782287],\n",
       "       [0.66551536, 0.33448464],\n",
       "       [0.61405203, 0.38594797],\n",
       "       [0.50783864, 0.49216136],\n",
       "       [0.71850452, 0.28149548],\n",
       "       [0.66640832, 0.33359168],\n",
       "       [0.76146373, 0.23853627],\n",
       "       [0.38927004, 0.61072996],\n",
       "       [0.35448655, 0.64551345],\n",
       "       [0.35641344, 0.64358656],\n",
       "       [0.4536195 , 0.5463805 ],\n",
       "       [0.22141984, 0.77858016],\n",
       "       [0.36833496, 0.63166504],\n",
       "       [0.40275591, 0.59724409],\n",
       "       [0.48524168, 0.51475832],\n",
       "       [0.41513545, 0.58486455],\n",
       "       [0.36091315, 0.63908685],\n",
       "       [0.40884899, 0.59115101],\n",
       "       [0.51311943, 0.48688057],\n",
       "       [0.1980624 , 0.8019376 ],\n",
       "       [0.31532087, 0.68467913],\n",
       "       [0.2959744 , 0.7040256 ],\n",
       "       [0.63193796, 0.36806204],\n",
       "       [0.38322097, 0.61677903],\n",
       "       [0.41731924, 0.58268076],\n",
       "       [0.36960611, 0.63039389],\n",
       "       [0.61818518, 0.38181482],\n",
       "       [0.40188032, 0.59811968],\n",
       "       [0.24715241, 0.75284759],\n",
       "       [0.84986717, 0.15013283],\n",
       "       [0.63748339, 0.36251661],\n",
       "       [0.41936558, 0.58063442],\n",
       "       [0.46753636, 0.53246364],\n",
       "       [0.35252915, 0.64747085],\n",
       "       [0.4431229 , 0.5568771 ],\n",
       "       [0.49087066, 0.50912934],\n",
       "       [0.41511519, 0.58488481],\n",
       "       [0.40144338, 0.59855662],\n",
       "       [0.34178541, 0.65821459],\n",
       "       [0.28727993, 0.71272007],\n",
       "       [0.20623102, 0.79376898],\n",
       "       [0.41631164, 0.58368836],\n",
       "       [0.26278318, 0.73721682],\n",
       "       [0.44174341, 0.55825659],\n",
       "       [0.79006251, 0.20993749],\n",
       "       [0.54526961, 0.45473039],\n",
       "       [0.36423889, 0.63576111],\n",
       "       [0.67422335, 0.32577665],\n",
       "       [0.60734885, 0.39265115],\n",
       "       [0.81739773, 0.18260227],\n",
       "       [0.24531103, 0.75468897],\n",
       "       [0.45107256, 0.54892744],\n",
       "       [0.27954681, 0.72045319],\n",
       "       [0.5514785 , 0.4485215 ],\n",
       "       [0.28102587, 0.71897413],\n",
       "       [0.83492841, 0.16507159],\n",
       "       [0.48543399, 0.51456601],\n",
       "       [0.4439708 , 0.5560292 ],\n",
       "       [0.78797949, 0.21202051],\n",
       "       [0.21734453, 0.78265547],\n",
       "       [0.31196393, 0.68803607],\n",
       "       [0.24899298, 0.75100702],\n",
       "       [0.37408487, 0.62591513],\n",
       "       [0.25094975, 0.74905025],\n",
       "       [0.68387888, 0.31612112],\n",
       "       [0.6153625 , 0.3846375 ],\n",
       "       [0.20928258, 0.79071742],\n",
       "       [0.72887186, 0.27112814],\n",
       "       [0.17325118, 0.82674882],\n",
       "       [0.84063437, 0.15936563],\n",
       "       [0.29629055, 0.70370945],\n",
       "       [0.24502828, 0.75497172],\n",
       "       [0.5534336 , 0.4465664 ],\n",
       "       [0.79912336, 0.20087664],\n",
       "       [0.34663482, 0.65336518],\n",
       "       [0.34641851, 0.65358149],\n",
       "       [0.58375556, 0.41624444],\n",
       "       [0.49301274, 0.50698726],\n",
       "       [0.39404902, 0.60595098],\n",
       "       [0.2938159 , 0.7061841 ],\n",
       "       [0.32137757, 0.67862243],\n",
       "       [0.54178386, 0.45821614],\n",
       "       [0.4114564 , 0.5885436 ],\n",
       "       [0.85811048, 0.14188952],\n",
       "       [0.4463915 , 0.5536085 ],\n",
       "       [0.64144151, 0.35855849],\n",
       "       [0.28105806, 0.71894194],\n",
       "       [0.22434043, 0.77565957],\n",
       "       [0.74409244, 0.25590756],\n",
       "       [0.42739899, 0.57260101],\n",
       "       [0.37078731, 0.62921269],\n",
       "       [0.27281462, 0.72718538],\n",
       "       [0.59448034, 0.40551966],\n",
       "       [0.66453022, 0.33546978],\n",
       "       [0.39630317, 0.60369683],\n",
       "       [0.5842727 , 0.4157273 ],\n",
       "       [0.83412785, 0.16587215],\n",
       "       [0.29281036, 0.70718964],\n",
       "       [0.29781172, 0.70218828],\n",
       "       [0.1970299 , 0.8029701 ],\n",
       "       [0.35077801, 0.64922199],\n",
       "       [0.7898752 , 0.2101248 ],\n",
       "       [0.38640446, 0.61359554],\n",
       "       [0.6075265 , 0.3924735 ],\n",
       "       [0.54058694, 0.45941306],\n",
       "       [0.88695165, 0.11304835],\n",
       "       [0.26434498, 0.73565502],\n",
       "       [0.45648911, 0.54351089],\n",
       "       [0.32541512, 0.67458488],\n",
       "       [0.7188077 , 0.2811923 ],\n",
       "       [0.34039116, 0.65960884],\n",
       "       [0.81933587, 0.18066413],\n",
       "       [0.23918757, 0.76081243],\n",
       "       [0.77925461, 0.22074539],\n",
       "       [0.7486322 , 0.2513678 ],\n",
       "       [0.47837639, 0.52162361],\n",
       "       [0.3265661 , 0.6734339 ],\n",
       "       [0.30527232, 0.69472768],\n",
       "       [0.6271371 , 0.3728629 ],\n",
       "       [0.38207612, 0.61792388],\n",
       "       [0.5076112 , 0.4923888 ],\n",
       "       [0.3597219 , 0.6402781 ],\n",
       "       [0.24242141, 0.75757859],\n",
       "       [0.48365677, 0.51634323],\n",
       "       [0.70939922, 0.29060078],\n",
       "       [0.18271566, 0.81728434],\n",
       "       [0.52808617, 0.47191383],\n",
       "       [0.54536176, 0.45463824],\n",
       "       [0.25614057, 0.74385943],\n",
       "       [0.79115184, 0.20884816],\n",
       "       [0.24235019, 0.75764981],\n",
       "       [0.40651069, 0.59348931],\n",
       "       [0.31510224, 0.68489776],\n",
       "       [0.36004824, 0.63995176],\n",
       "       [0.3359493 , 0.6640507 ],\n",
       "       [0.75421522, 0.24578478],\n",
       "       [0.76481622, 0.23518378],\n",
       "       [0.28801732, 0.71198268],\n",
       "       [0.37962286, 0.62037714],\n",
       "       [0.58063557, 0.41936443],\n",
       "       [0.56006541, 0.43993459],\n",
       "       [0.712704  , 0.287296  ],\n",
       "       [0.66771329, 0.33228671],\n",
       "       [0.37576836, 0.62423164],\n",
       "       [0.31708449, 0.68291551],\n",
       "       [0.51481176, 0.48518824],\n",
       "       [0.3673314 , 0.6326686 ],\n",
       "       [0.51053187, 0.48946813],\n",
       "       [0.27013999, 0.72986001],\n",
       "       [0.20108802, 0.79891198],\n",
       "       [0.65497726, 0.34502274],\n",
       "       [0.20805822, 0.79194178],\n",
       "       [0.34680862, 0.65319138],\n",
       "       [0.53198175, 0.46801825],\n",
       "       [0.44855707, 0.55144293],\n",
       "       [0.45403384, 0.54596616],\n",
       "       [0.71145504, 0.28854496],\n",
       "       [0.70622099, 0.29377901],\n",
       "       [0.52253293, 0.47746707],\n",
       "       [0.28464081, 0.71535919],\n",
       "       [0.24490523, 0.75509477],\n",
       "       [0.45019526, 0.54980474],\n",
       "       [0.58001206, 0.41998794],\n",
       "       [0.51910208, 0.48089792],\n",
       "       [0.19740756, 0.80259244],\n",
       "       [0.4095438 , 0.5904562 ],\n",
       "       [0.30620521, 0.69379479],\n",
       "       [0.46816526, 0.53183474],\n",
       "       [0.61666883, 0.38333117],\n",
       "       [0.78849043, 0.21150957],\n",
       "       [0.18218135, 0.81781865],\n",
       "       [0.63960391, 0.36039609],\n",
       "       [0.2453515 , 0.7546485 ],\n",
       "       [0.37593205, 0.62406795],\n",
       "       [0.819056  , 0.180944  ],\n",
       "       [0.65472967, 0.34527033],\n",
       "       [0.81550457, 0.18449543],\n",
       "       [0.72827673, 0.27172327],\n",
       "       [0.27519546, 0.72480454],\n",
       "       [0.8154077 , 0.1845923 ],\n",
       "       [0.27392329, 0.72607671],\n",
       "       [0.4014679 , 0.5985321 ],\n",
       "       [0.43065213, 0.56934787],\n",
       "       [0.66210114, 0.33789886],\n",
       "       [0.61570039, 0.38429961],\n",
       "       [0.45167567, 0.54832433],\n",
       "       [0.80239564, 0.19760436],\n",
       "       [0.3405458 , 0.6594542 ],\n",
       "       [0.76458463, 0.23541537],\n",
       "       [0.80684113, 0.19315887],\n",
       "       [0.66359435, 0.33640565],\n",
       "       [0.39825012, 0.60174988],\n",
       "       [0.29988438, 0.70011562],\n",
       "       [0.44089288, 0.55910712]])"
      ]
     },
     "execution_count": 31,
     "metadata": {},
     "output_type": "execute_result"
    }
   ],
   "source": [
    "ytrain_prob=LR.predict_proba(X_train)\n",
    "ytrain_prob"
   ]
  },
  {
   "cell_type": "code",
   "execution_count": 35,
   "id": "ab17e8fa",
   "metadata": {},
   "outputs": [
    {
     "data": {
      "text/plain": [
       "array([[0.75951373, 0.24048627],\n",
       "       [0.35960711, 0.64039289],\n",
       "       [0.32709088, 0.67290912],\n",
       "       [0.78120956, 0.21879044],\n",
       "       [0.63560438, 0.36439562],\n",
       "       [0.46208741, 0.53791259],\n",
       "       [0.73046547, 0.26953453],\n",
       "       [0.62208687, 0.37791313],\n",
       "       [0.82043623, 0.17956377],\n",
       "       [0.8538034 , 0.1461966 ],\n",
       "       [0.42435588, 0.57564412],\n",
       "       [0.27769016, 0.72230984],\n",
       "       [0.72410744, 0.27589256],\n",
       "       [0.33663299, 0.66336701],\n",
       "       [0.26940754, 0.73059246],\n",
       "       [0.48323619, 0.51676381],\n",
       "       [0.67335364, 0.32664636],\n",
       "       [0.39073234, 0.60926766],\n",
       "       [0.83171073, 0.16828927],\n",
       "       [0.34018115, 0.65981885],\n",
       "       [0.33386729, 0.66613271],\n",
       "       [0.52669135, 0.47330865],\n",
       "       [0.6568047 , 0.3431953 ],\n",
       "       [0.66465796, 0.33534204],\n",
       "       [0.33224053, 0.66775947],\n",
       "       [0.49197661, 0.50802339],\n",
       "       [0.5864238 , 0.4135762 ],\n",
       "       [0.52035674, 0.47964326],\n",
       "       [0.20742014, 0.79257986],\n",
       "       [0.42782392, 0.57217608],\n",
       "       [0.46343509, 0.53656491],\n",
       "       [0.73143564, 0.26856436],\n",
       "       [0.22950644, 0.77049356],\n",
       "       [0.40102014, 0.59897986],\n",
       "       [0.28762858, 0.71237142],\n",
       "       [0.43049466, 0.56950534],\n",
       "       [0.75438063, 0.24561937],\n",
       "       [0.3173079 , 0.6826921 ],\n",
       "       [0.69164052, 0.30835948],\n",
       "       [0.59350316, 0.40649684],\n",
       "       [0.37182721, 0.62817279],\n",
       "       [0.35309176, 0.64690824],\n",
       "       [0.47667694, 0.52332306],\n",
       "       [0.68293765, 0.31706235],\n",
       "       [0.54634475, 0.45365525],\n",
       "       [0.40155056, 0.59844944],\n",
       "       [0.36139578, 0.63860422],\n",
       "       [0.41501252, 0.58498748],\n",
       "       [0.68582325, 0.31417675],\n",
       "       [0.35524609, 0.64475391],\n",
       "       [0.32037585, 0.67962415],\n",
       "       [0.52298577, 0.47701423],\n",
       "       [0.27046581, 0.72953419],\n",
       "       [0.31547473, 0.68452527],\n",
       "       [0.17292086, 0.82707914],\n",
       "       [0.66873252, 0.33126748],\n",
       "       [0.26814337, 0.73185663],\n",
       "       [0.28095779, 0.71904221],\n",
       "       [0.41483915, 0.58516085],\n",
       "       [0.28403657, 0.71596343],\n",
       "       [0.42386133, 0.57613867],\n",
       "       [0.20027602, 0.79972398],\n",
       "       [0.2859924 , 0.7140076 ],\n",
       "       [0.33273657, 0.66726343],\n",
       "       [0.45046265, 0.54953735],\n",
       "       [0.39491838, 0.60508162],\n",
       "       [0.38179314, 0.61820686],\n",
       "       [0.55048941, 0.44951059],\n",
       "       [0.41325025, 0.58674975],\n",
       "       [0.44948978, 0.55051022],\n",
       "       [0.47550964, 0.52449036],\n",
       "       [0.25644309, 0.74355691],\n",
       "       [0.32179577, 0.67820423],\n",
       "       [0.68962787, 0.31037213],\n",
       "       [0.67130692, 0.32869308],\n",
       "       [0.38289365, 0.61710635],\n",
       "       [0.6051805 , 0.3948195 ],\n",
       "       [0.43465507, 0.56534493],\n",
       "       [0.42519149, 0.57480851],\n",
       "       [0.55481913, 0.44518087],\n",
       "       [0.83094295, 0.16905705],\n",
       "       [0.78495503, 0.21504497],\n",
       "       [0.64763183, 0.35236817],\n",
       "       [0.44855707, 0.55144293],\n",
       "       [0.71680361, 0.28319639],\n",
       "       [0.38927074, 0.61072926],\n",
       "       [0.73569429, 0.26430571],\n",
       "       [0.43349319, 0.56650681],\n",
       "       [0.4380648 , 0.5619352 ],\n",
       "       [0.63365735, 0.36634265],\n",
       "       [0.69180358, 0.30819642]])"
      ]
     },
     "execution_count": 35,
     "metadata": {},
     "output_type": "execute_result"
    }
   ],
   "source": [
    "yhat_prob = LR.predict_proba(X_test)\n",
    "yhat_prob"
   ]
  },
  {
   "cell_type": "code",
   "execution_count": 36,
   "id": "b22f1332",
   "metadata": {},
   "outputs": [
    {
     "name": "stdout",
     "output_type": "stream",
     "text": [
      "Accuracy:  0.6326530612244898\n"
     ]
    }
   ],
   "source": [
    "#Evaluating\n",
    "\n",
    "#using jaccard index\n",
    "\n",
    "Logistic_Regression_Train=jaccard_score(y_train, ytrain,pos_label=0)\n",
    "Logistic_Regression_Train\n",
    "Logistic_Regression_Test=jaccard_score(y_test, yhat,pos_label=0)\n",
    "print(\"Accuracy: \", Logistic_Regression_Test)"
   ]
  },
  {
   "cell_type": "code",
   "execution_count": 37,
   "id": "14e913a5",
   "metadata": {},
   "outputs": [],
   "source": [
    "acc.append(Logistic_Regression_Test)\n",
    "model.append('Logistic Regression')"
   ]
  },
  {
   "cell_type": "code",
   "execution_count": 38,
   "id": "8e148339",
   "metadata": {},
   "outputs": [
    {
     "name": "stdout",
     "output_type": "stream",
     "text": [
      "[[42  5]\n",
      " [13 31]]\n"
     ]
    }
   ],
   "source": [
    "#using confusion matrix\n",
    "\n",
    "def plot_confusion_matrix(cm, classes,\n",
    "                          normalize=False,\n",
    "                          title='Confusion matrix',\n",
    "                          cmap=plt.cm.Blues):\n",
    "    \"\"\"\n",
    "    This function prints and plots the confusion matrix.\n",
    "    Normalization can be applied by setting `normalize=True`.\n",
    "    \"\"\"\n",
    "    if normalize:\n",
    "        cm = cm.astype('float') / cm.sum(axis=1)[:, np.newaxis]\n",
    "        print(\"Normalized confusion matrix\")\n",
    "    else:\n",
    "        print('Confusion matrix, without normalization')\n",
    "\n",
    "    print(cm)\n",
    "\n",
    "    plt.imshow(cm, interpolation='nearest', cmap=cmap)\n",
    "    plt.title(title)\n",
    "    plt.colorbar()\n",
    "    tick_marks = np.arange(len(classes))\n",
    "    plt.xticks(tick_marks, classes, rotation=45)\n",
    "    plt.yticks(tick_marks, classes)\n",
    "\n",
    "    fmt = '.2f' if normalize else 'd'\n",
    "    thresh = cm.max() / 2.\n",
    "    for i, j in itertools.product(range(cm.shape[0]), range(cm.shape[1])):\n",
    "        plt.text(j, i, format(cm[i, j], fmt),\n",
    "                 horizontalalignment=\"center\",\n",
    "                 color=\"white\" if cm[i, j] > thresh else \"black\")\n",
    "\n",
    "    plt.tight_layout()\n",
    "    plt.ylabel('True label')\n",
    "    plt.xlabel('Predicted label')\n",
    "print(confusion_matrix(y_test, yhat, labels=[1,0]))"
   ]
  },
  {
   "cell_type": "code",
   "execution_count": 40,
   "id": "fc9542d4",
   "metadata": {},
   "outputs": [
    {
     "name": "stdout",
     "output_type": "stream",
     "text": [
      "Confusion matrix, without normalization\n",
      "[[42  5]\n",
      " [13 31]]\n"
     ]
    },
    {
     "data": {
      "image/png": "[encoded data removed]",
      "text/plain": [
       "<Figure size 500x500 with 2 Axes>"
      ]
     },
     "metadata": {},
     "output_type": "display_data"
    }
   ],
   "source": [
    "import itertools\n",
    "\n",
    "# Compute confusion matrix\n",
    "cnf_matrix = confusion_matrix(y_test, yhat, labels=[1,0])\n",
    "np.set_printoptions(precision=2)\n",
    "\n",
    "\n",
    "# Plot non-normalized confusion matrix\n",
    "plt.figure()\n",
    "plot_confusion_matrix(cnf_matrix, classes=['churn=1','churn=0'],normalize= False,  title='Confusion matrix')"
   ]
  },
  {
   "cell_type": "code",
   "execution_count": 41,
   "id": "a7d9e35d",
   "metadata": {},
   "outputs": [
    {
     "name": "stdout",
     "output_type": "stream",
     "text": [
      "              precision    recall  f1-score   support\n",
      "\n",
      "           0       0.86      0.70      0.78        44\n",
      "           1       0.76      0.89      0.82        47\n",
      "\n",
      "    accuracy                           0.80        91\n",
      "   macro avg       0.81      0.80      0.80        91\n",
      "weighted avg       0.81      0.80      0.80        91\n",
      "\n"
     ]
    }
   ],
   "source": [
    "print (classification_report(y_test, yhat))"
   ]
  },
  {
   "cell_type": "code",
   "execution_count": 42,
   "id": "1d2d705c",
   "metadata": {},
   "outputs": [
    {
     "data": {
      "text/plain": [
       "0.5066164457639913"
      ]
     },
     "execution_count": 42,
     "metadata": {},
     "output_type": "execute_result"
    }
   ],
   "source": [
    "#using log loss\n",
    "\n",
    "log_loss(y_test, yhat_prob)"
   ]
  },
  {
   "cell_type": "code",
   "execution_count": 43,
   "id": "37c00caf",
   "metadata": {},
   "outputs": [
    {
     "name": "stdout",
     "output_type": "stream",
     "text": [
      "0.6326530612244898\n"
     ]
    }
   ],
   "source": [
    "print(Logistic_Regression_Test)"
   ]
  },
  {
   "cell_type": "code",
   "execution_count": 44,
   "id": "bbfb20b2",
   "metadata": {},
   "outputs": [],
   "source": [
    "#Decision Tree\n",
    "\n",
    "from sklearn.tree import DecisionTreeClassifier\n",
    "import sklearn.tree as tree\n",
    "from sklearn import metrics\n",
    "import itertools"
   ]
  },
  {
   "cell_type": "code",
   "execution_count": 45,
   "id": "4e43be33",
   "metadata": {},
   "outputs": [
    {
     "data": {
      "text/plain": [
       "DecisionTreeClassifier(criterion='entropy', max_depth=4)"
      ]
     },
     "execution_count": 45,
     "metadata": {},
     "output_type": "execute_result"
    }
   ],
   "source": [
    "strokeTree= DecisionTreeClassifier(criterion=\"entropy\", max_depth=4)\n",
    "strokeTree"
   ]
  },
  {
   "cell_type": "code",
   "execution_count": 46,
   "id": "6e460ea7",
   "metadata": {},
   "outputs": [
    {
     "data": {
      "text/plain": [
       "DecisionTreeClassifier(criterion='entropy', max_depth=4)"
      ]
     },
     "execution_count": 46,
     "metadata": {},
     "output_type": "execute_result"
    }
   ],
   "source": [
    "strokeTree.fit(X_train, y_train)"
   ]
  },
  {
   "cell_type": "code",
   "execution_count": 47,
   "id": "840d9be3",
   "metadata": {},
   "outputs": [
    {
     "name": "stdout",
     "output_type": "stream",
     "text": [
      "[0 0 0 0 0]\n",
      "225    0\n",
      "152    1\n",
      "228    0\n",
      "201    0\n",
      "52     1\n",
      "Name: output, dtype: int64\n"
     ]
    }
   ],
   "source": [
    "#prediction\n",
    "\n",
    "trainTree=strokeTree.predict(X_train)\n",
    "predTree=strokeTree.predict(X_test)\n",
    "\n",
    "print(predTree [0:5])\n",
    "print(y_test [0:5])"
   ]
  },
  {
   "cell_type": "code",
   "execution_count": 48,
   "id": "3b51bd1f",
   "metadata": {},
   "outputs": [
    {
     "name": "stdout",
     "output_type": "stream",
     "text": [
      "Decision Tree's Accuracy:  0.7692307692307693\n"
     ]
    }
   ],
   "source": [
    "#evaluation\n",
    "\n",
    "Decision_Tree_Train=metrics.accuracy_score(y_train, trainTree)\n",
    "Decision_Tree_Test=metrics.accuracy_score(y_test, predTree)\n",
    "acc.append(Decision_Tree_Train)\n",
    "model.append('Decision Tree')\n",
    "print(\"Decision Tree's Accuracy: \", metrics.accuracy_score(y_test, predTree))"
   ]
  },
  {
   "cell_type": "code",
   "execution_count": 49,
   "id": "e26b0a6f",
   "metadata": {},
   "outputs": [
    {
     "data": {
      "image/png": "[encoded data removed]",
      "text/plain": [
       "<Figure size 4000x1000 with 1 Axes>"
      ]
     },
     "metadata": {},
     "output_type": "display_data"
    }
   ],
   "source": [
    "#plot a tree\n",
    "\n",
    "fig, axe = plt.subplots(figsize=(40,10))\n",
    "tree.plot_tree(strokeTree,ax = axe, fontsize=15)\n",
    "plt.show()"
   ]
  },
  {
   "cell_type": "code",
   "execution_count": 50,
   "id": "f51b361c",
   "metadata": {},
   "outputs": [
    {
     "data": {
      "image/png": "[encoded data removed]",
      "text/plain": [
       "<Figure size 500x500 with 1 Axes>"
      ]
     },
     "metadata": {},
     "output_type": "display_data"
    }
   ],
   "source": [
    "#KNN\n",
    "\n",
    "from sklearn.cluster import KMeans\n",
    "from sklearn.neighbors import KNeighborsClassifier\n",
    "\n",
    "kmeans_kwargs = {\n",
    "\"init\": \"random\",\n",
    "\"n_init\": 10,\n",
    "\"random_state\": 1,\n",
    "}\n",
    "\n",
    "#create list to hold SSE values for each k\n",
    "sse = []\n",
    "for k in range(1, 11):\n",
    "    kmeans = KMeans(n_clusters=k, **kmeans_kwargs)\n",
    "    kmeans.fit(df)\n",
    "    sse.append(kmeans.inertia_)\n",
    "\n",
    "#visualize results\n",
    "plt.plot(range(1, 11), sse)\n",
    "plt.xticks(range(1, 11))\n",
    "plt.xlabel(\"Number of Clusters\")\n",
    "plt.ylabel(\"SSE\")\n",
    "plt.show()"
   ]
  },
  {
   "cell_type": "code",
   "execution_count": 51,
   "id": "db70aa04",
   "metadata": {},
   "outputs": [
    {
     "data": {
      "text/plain": [
       "KNeighborsClassifier(n_neighbors=3)"
      ]
     },
     "execution_count": 51,
     "metadata": {},
     "output_type": "execute_result"
    }
   ],
   "source": [
    "k = 3\n",
    "#Train Model and Predict  \n",
    "neigh = KNeighborsClassifier(n_neighbors = k).fit(X_train,y_train)\n",
    "neigh"
   ]
  },
  {
   "cell_type": "code",
   "execution_count": 52,
   "id": "3b6ea2f1",
   "metadata": {},
   "outputs": [
    {
     "data": {
      "text/plain": [
       "array([0, 1, 1, 0, 0])"
      ]
     },
     "execution_count": 52,
     "metadata": {},
     "output_type": "execute_result"
    }
   ],
   "source": [
    "yhat = neigh.predict(X_test)\n",
    "yhat[0:5]"
   ]
  },
  {
   "cell_type": "code",
   "execution_count": 53,
   "id": "17979314",
   "metadata": {},
   "outputs": [],
   "source": [
    "KNN_Train=metrics.accuracy_score(y_train, neigh.predict(X_train))\n",
    "KNN_Test=metrics.accuracy_score(y_test, yhat)"
   ]
  },
  {
   "cell_type": "code",
   "execution_count": 54,
   "id": "ce758a97",
   "metadata": {},
   "outputs": [
    {
     "name": "stdout",
     "output_type": "stream",
     "text": [
      "Train set Accuracy:  0.8537735849056604\n",
      "Test set Accuracy:  0.8131868131868132\n"
     ]
    }
   ],
   "source": [
    "print(\"Train set Accuracy: \",KNN_Train )\n",
    "print(\"Test set Accuracy: \",KNN_Test )"
   ]
  },
  {
   "cell_type": "code",
   "execution_count": 55,
   "id": "c6220a63",
   "metadata": {},
   "outputs": [],
   "source": [
    "acc.append(KNN_Test)\n",
    "model.append('KNN')"
   ]
  },
  {
   "cell_type": "code",
   "execution_count": 56,
   "id": "51876b9c",
   "metadata": {},
   "outputs": [
    {
     "name": "stdout",
     "output_type": "stream",
     "text": [
      "Random Forest Accuracy is:  0.7802197802197802\n",
      "              precision    recall  f1-score   support\n",
      "\n",
      "           0       0.82      0.70      0.76        44\n",
      "           1       0.75      0.85      0.80        47\n",
      "\n",
      "    accuracy                           0.78        91\n",
      "   macro avg       0.79      0.78      0.78        91\n",
      "weighted avg       0.78      0.78      0.78        91\n",
      "\n"
     ]
    }
   ],
   "source": [
    "#RFC\n",
    "\n",
    "from sklearn.ensemble import RandomForestClassifier\n",
    "\n",
    "RF = RandomForestClassifier(n_estimators=20, random_state=0)\n",
    "RF.fit(X_train,y_train)\n",
    "\n",
    "train_values = RF.predict(X_train)\n",
    "predicted_values = RF.predict(X_test)\n",
    "\n",
    "RFC_Train= metrics.accuracy_score(y_train, train_values)\n",
    "RFC_Test= metrics.accuracy_score(y_test, predicted_values)\n",
    "acc.append(RFC_Test)\n",
    "model.append('RF')\n",
    "print(\"Random Forest Accuracy is: \", RFC_Test)\n",
    "\n",
    "print(classification_report(y_test,predicted_values))"
   ]
  },
  {
   "cell_type": "code",
   "execution_count": 57,
   "id": "62ca31cc",
   "metadata": {},
   "outputs": [
    {
     "name": "stdout",
     "output_type": "stream",
     "text": [
      "Naive Bayes Accuracy is:  0.7802197802197802\n",
      "              precision    recall  f1-score   support\n",
      "\n",
      "           0       0.83      0.68      0.75        44\n",
      "           1       0.75      0.87      0.80        47\n",
      "\n",
      "    accuracy                           0.78        91\n",
      "   macro avg       0.79      0.78      0.78        91\n",
      "weighted avg       0.79      0.78      0.78        91\n",
      "\n"
     ]
    }
   ],
   "source": [
    "#Naive Bayes\n",
    "\n",
    "from sklearn.naive_bayes import GaussianNB\n",
    "NaiveBayes = GaussianNB()\n",
    "\n",
    "NaiveBayes.fit(X_train, y_train)\n",
    "\n",
    "train_values = NaiveBayes.predict(X_train)\n",
    "predicted_values = NaiveBayes.predict(X_test)\n",
    "Naive_Bayes_Train = metrics.accuracy_score(y_train, train_values)\n",
    "Naive_Bayes_Test = metrics.accuracy_score(y_test, predicted_values)\n",
    "acc.append(Naive_Bayes_Test)\n",
    "model.append('Naive Bayes')\n",
    "print(\"Naive Bayes Accuracy is: \", Naive_Bayes_Test)\n",
    "\n",
    "print(classification_report(y_test,predicted_values))"
   ]
  },
  {
   "cell_type": "code",
   "execution_count": 58,
   "id": "9f7bd6d6",
   "metadata": {},
   "outputs": [
    {
     "name": "stdout",
     "output_type": "stream",
     "text": [
      "Logistic Regression Accuracy: 0.6326530612244898\n",
      "Decision Tree's Accuracy:  0.7692307692307693\n",
      "Random Forest Accuracy: 0.7802197802197802\n",
      "K-Nearest Neighbors Accuracy: 0.8131868131868132\n",
      "Naive Bayes Classifier Accuracy: 0.7802197802197802\n"
     ]
    },
    {
     "data": {
      "image/png": "[encoded data removed]",
      "text/plain": [
       "<Figure size 1400x700 with 1 Axes>"
      ]
     },
     "metadata": {},
     "output_type": "display_data"
    }
   ],
   "source": [
    "print('Logistic Regression Accuracy:',Logistic_Regression_Test )\n",
    "print(\"Decision Tree's Accuracy: \", metrics.accuracy_score(y_test, predTree))\n",
    "print('Random Forest Accuracy:', RFC_Test)\n",
    "print('K-Nearest Neighbors Accuracy:', KNN_Test)\n",
    "print('Naive Bayes Classifier Accuracy:', Naive_Bayes_Test)\n",
    "\n",
    "plt.figure(figsize=[14,7],dpi = 100, facecolor='white')\n",
    "plt.title('Accuracy Comparison')\n",
    "plt.xlabel('Accuracy')\n",
    "plt.ylabel('ML Algorithms')\n",
    "sns.barplot(x = acc,y = model,palette='gist_rainbow_r')\n",
    "plt.savefig('plot.png', dpi=300, bbox_inches='tight')"
   ]
  },
  {
   "cell_type": "code",
   "execution_count": 61,
   "id": "4d9cd572",
   "metadata": {},
   "outputs": [
    {
     "name": "stdout",
     "output_type": "stream",
     "text": [
      "Best Model: KNN\n"
     ]
    }
   ],
   "source": [
    "# select best model based on accuracy\n",
    "\n",
    "models = ['Logistic Regression', 'Decision Tree', 'KNN','RFC','Naive Bayes']\n",
    "accuracies= [Logistic_Regression_Test, metrics.accuracy_score(y_test, predTree),KNN_Test,RFC_Test, Naive_Bayes_Test]\n",
    "\n",
    "best_model = models[accuracies.index(max(accuracies))]\n",
    "print('Best Model:', best_model)\n",
    "\n"
   ]
  },
  {
   "cell_type": "code",
   "execution_count": 62,
   "id": "a6146033",
   "metadata": {},
   "outputs": [],
   "source": [
    "#hyperparameter tuning\n",
    "\n",
    "from sklearn.model_selection import GridSearchCV\n",
    "\n",
    "\n",
    "param_grid = {\n",
    "'n_estimators': [50, 100, 200],\n",
    "'max_depth': [5, 10, 20, 30],\n",
    "'min_samples_split': [2, 5, 10],\n",
    "'min_samples_leaf': [1, 2, 4]\n",
    "}\n"
   ]
  },
  {
   "cell_type": "code",
   "execution_count": 63,
   "id": "5d6804bc",
   "metadata": {},
   "outputs": [
    {
     "name": "stdout",
     "output_type": "stream",
     "text": [
      "Best Parameters: {'max_depth': 5, 'min_samples_leaf': 4, 'min_samples_split': 2, 'n_estimators': 50}\n"
     ]
    }
   ],
   "source": [
    "from joblib import parallel_backend\n",
    "\n",
    "with parallel_backend('threading', n_jobs=20):\n",
    "\n",
    "    RF = RandomForestClassifier()\n",
    "    RF_tuned = GridSearchCV(RF, param_grid, cv=5)\n",
    "    RF_tuned.fit(X_train, y_train)\n",
    "    best_params = RF_tuned.best_params_\n",
    "    print(f\"Best Parameters: {best_params}\")"
   ]
  },
  {
   "cell_type": "code",
   "execution_count": 64,
   "id": "d753d724",
   "metadata": {},
   "outputs": [
    {
     "name": "stdout",
     "output_type": "stream",
     "text": [
      "Tuned Random Forest:\n",
      "Accuracy: 0.8131868131868132\n",
      "Confusion Matrix: [[31 13]\n",
      " [ 4 43]]\n",
      "Classification Report:               precision    recall  f1-score   support\n",
      "\n",
      "           0       0.89      0.70      0.78        44\n",
      "           1       0.77      0.91      0.83        47\n",
      "\n",
      "    accuracy                           0.81        91\n",
      "   macro avg       0.83      0.81      0.81        91\n",
      "weighted avg       0.82      0.81      0.81        91\n",
      "\n"
     ]
    }
   ],
   "source": [
    "from sklearn.metrics import accuracy_score, confusion_matrix, classification_report\n",
    "\n",
    "\n",
    "rf_tuned = RandomForestClassifier(**best_params)\n",
    "rf_tuned.fit(X_train, y_train)\n",
    "y_pred = rf_tuned.predict(X_test)\n",
    "accuracy = accuracy_score(y_test, y_pred)\n",
    "print(f\"Tuned Random Forest:\")\n",
    "print(f\"Accuracy: {accuracy}\")\n",
    "print(f\"Confusion Matrix: {confusion_matrix(y_test, y_pred)}\")\n",
    "print(f\"Classification Report: {classification_report(y_test, y_pred)}\")"
   ]
  },
  {
   "cell_type": "code",
   "execution_count": null,
   "id": "e574b869",
   "metadata": {},
   "outputs": [],
   "source": []
  }
 ],
 "metadata": {
  "kernelspec": {
   "display_name": "Python 3 (ipykernel)",
   "language": "python",
   "name": "python3"
  },
  "language_info": {
   "codemirror_mode": {
    "name": "ipython",
    "version": 3
   },
   "file_extension": ".py",
   "mimetype": "text/x-python",
   "name": "python",
   "nbconvert_exporter": "python",
   "pygments_lexer": "ipython3",
   "version": "3.9.13"
  }
 },
 "nbformat": 4,
 "nbformat_minor": 5
}
